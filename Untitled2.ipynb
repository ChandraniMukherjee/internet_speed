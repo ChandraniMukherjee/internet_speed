{
 "cells": [
  {
   "cell_type": "code",
   "execution_count": 1,
   "id": "43bde89f-95e6-4064-9285-f994d56c3bd8",
   "metadata": {},
   "outputs": [],
   "source": [
    "import matplotlib.pyplot as plt"
   ]
  },
  {
   "cell_type": "code",
   "execution_count": 2,
   "id": "3812be11-00a3-4324-8710-ffc6c986ec0e",
   "metadata": {},
   "outputs": [],
   "source": [
    "import pandas as pd"
   ]
  },
  {
   "cell_type": "code",
   "execution_count": 6,
   "id": "ca1fa30c-61d9-4dfd-a7a3-541bc73c1cb7",
   "metadata": {},
   "outputs": [],
   "source": [
    "empdata={\"empid\":[100,200,300,400,500,600],\"ename\":[\"chandrani\",\"sandy\",\"raima\",\"sreeja\",\"arpan\",\"piyush\"],\"sal\":[100000,30000,40000,70000,49999,60000]}"
   ]
  },
  {
   "cell_type": "code",
   "execution_count": 7,
   "id": "c8ade11d-7105-4b23-af2c-cf51a5c759d0",
   "metadata": {},
   "outputs": [
    {
     "data": {
      "text/plain": [
       "{'empid': [100, 200, 300, 400, 500, 600],\n",
       " 'ename': ['chandrani', 'sandy', 'raima', 'sreeja', 'arpan', 'piyush'],\n",
       " 'sal': [100000, 30000, 40000, 70000, 49999, 60000]}"
      ]
     },
     "execution_count": 7,
     "metadata": {},
     "output_type": "execute_result"
    }
   ],
   "source": [
    "empdata"
   ]
  },
  {
   "cell_type": "code",
   "execution_count": 8,
   "id": "f1ca4fc4-63c8-4e45-8ad9-76a59970dd85",
   "metadata": {},
   "outputs": [],
   "source": [
    "df=pd.DataFrame(empdata)"
   ]
  },
  {
   "cell_type": "code",
   "execution_count": 9,
   "id": "83ba77ac-048d-4626-a733-9b39f9a7ab34",
   "metadata": {},
   "outputs": [
    {
     "data": {
      "text/html": [
       "<div>\n",
       "<style scoped>\n",
       "    .dataframe tbody tr th:only-of-type {\n",
       "        vertical-align: middle;\n",
       "    }\n",
       "\n",
       "    .dataframe tbody tr th {\n",
       "        vertical-align: top;\n",
       "    }\n",
       "\n",
       "    .dataframe thead th {\n",
       "        text-align: right;\n",
       "    }\n",
       "</style>\n",
       "<table border=\"1\" class=\"dataframe\">\n",
       "  <thead>\n",
       "    <tr style=\"text-align: right;\">\n",
       "      <th></th>\n",
       "      <th>empid</th>\n",
       "      <th>ename</th>\n",
       "      <th>sal</th>\n",
       "    </tr>\n",
       "  </thead>\n",
       "  <tbody>\n",
       "    <tr>\n",
       "      <th>0</th>\n",
       "      <td>100</td>\n",
       "      <td>chandrani</td>\n",
       "      <td>100000</td>\n",
       "    </tr>\n",
       "    <tr>\n",
       "      <th>1</th>\n",
       "      <td>200</td>\n",
       "      <td>sandy</td>\n",
       "      <td>30000</td>\n",
       "    </tr>\n",
       "    <tr>\n",
       "      <th>2</th>\n",
       "      <td>300</td>\n",
       "      <td>raima</td>\n",
       "      <td>40000</td>\n",
       "    </tr>\n",
       "    <tr>\n",
       "      <th>3</th>\n",
       "      <td>400</td>\n",
       "      <td>sreeja</td>\n",
       "      <td>70000</td>\n",
       "    </tr>\n",
       "    <tr>\n",
       "      <th>4</th>\n",
       "      <td>500</td>\n",
       "      <td>arpan</td>\n",
       "      <td>49999</td>\n",
       "    </tr>\n",
       "    <tr>\n",
       "      <th>5</th>\n",
       "      <td>600</td>\n",
       "      <td>piyush</td>\n",
       "      <td>60000</td>\n",
       "    </tr>\n",
       "  </tbody>\n",
       "</table>\n",
       "</div>"
      ],
      "text/plain": [
       "   empid      ename     sal\n",
       "0    100  chandrani  100000\n",
       "1    200      sandy   30000\n",
       "2    300      raima   40000\n",
       "3    400     sreeja   70000\n",
       "4    500      arpan   49999\n",
       "5    600     piyush   60000"
      ]
     },
     "execution_count": 9,
     "metadata": {},
     "output_type": "execute_result"
    }
   ],
   "source": [
    "df"
   ]
  },
  {
   "cell_type": "code",
   "execution_count": 10,
   "id": "7a5419e1-6662-49c0-a203-f4355bc8199e",
   "metadata": {},
   "outputs": [],
   "source": [
    "x=df['empid']"
   ]
  },
  {
   "cell_type": "code",
   "execution_count": 11,
   "id": "97458e03-613d-4292-835b-120bf747efe7",
   "metadata": {},
   "outputs": [],
   "source": [
    "y=df['sal']"
   ]
  },
  {
   "cell_type": "code",
   "execution_count": 12,
   "id": "0ce01e81-2948-4508-b04b-85141aefa0d6",
   "metadata": {},
   "outputs": [
    {
     "data": {
      "text/plain": [
       "<BarContainer object of 6 artists>"
      ]
     },
     "execution_count": 12,
     "metadata": {},
     "output_type": "execute_result"
    },
    {
     "data": {
      "image/png": "[encoded data removed]",
      "text/plain": [
       "<Figure size 432x288 with 1 Axes>"
      ]
     },
     "metadata": {
      "needs_background": "light"
     },
     "output_type": "display_data"
    }
   ],
   "source": [
    "plt.bar(x,y,label='employee-information',color='red')"
   ]
  },
  {
   "cell_type": "code",
   "execution_count": 13,
   "id": "64c348ba-d620-4d45-872a-40a4b82f0e69",
   "metadata": {},
   "outputs": [
    {
     "name": "stderr",
     "output_type": "stream",
     "text": [
      "No artists with labels found to put in legend.  Note that artists whose label start with an underscore are ignored when legend() is called with no argument.\n"
     ]
    },
    {
     "data": {
      "image/png": "[encoded data removed]",
      "text/plain": [
       "<Figure size 432x288 with 1 Axes>"
      ]
     },
     "metadata": {
      "needs_background": "light"
     },
     "output_type": "display_data"
    }
   ],
   "source": [
    "plt.xlabel('employee id')\n",
    "plt.ylabel('employee salary')\n",
    "plt.title('MICROFOFT-CORPORATION')\n",
    "plt.legend()\n",
    "plt.show()"
   ]
  },
  {
   "cell_type": "code",
   "execution_count": 14,
   "id": "3916ec0d-39e7-4cd0-9e36-c94370165a8f",
   "metadata": {},
   "outputs": [
    {
     "data": {
      "image/png": "[encoded data removed]",
      "text/plain": [
       "<Figure size 432x288 with 1 Axes>"
      ]
     },
     "metadata": {
      "needs_background": "light"
     },
     "output_type": "display_data"
    }
   ],
   "source": [
    "plt.xlabel('employee id')\n",
    "plt.ylabel('employee salary')\n",
    "plt.title('MICROFOFT-CORPORATION')\n",
    "plt.show()"
   ]
  },
  {
   "cell_type": "code",
   "execution_count": 15,
   "id": "f2f2eb20-acb0-4a02-a9fc-eaa10c129c61",
   "metadata": {},
   "outputs": [
    {
     "data": {
      "image/png": "[encoded data removed]",
      "text/plain": [
       "<Figure size 432x288 with 1 Axes>"
      ]
     },
     "metadata": {
      "needs_background": "light"
     },
     "output_type": "display_data"
    }
   ],
   "source": [
    "x=df['empid']\n",
    "y=df['sal']\n",
    "plt.bar(x,y,label='employee-information',color='red')\n",
    "plt.xlabel('employee id')\n",
    "plt.ylabel('employee salary')\n",
    "plt.title('MICROFOFT-CORPORATION')\n",
    "plt.legend()\n",
    "plt.show()\n",
    "\n"
   ]
  },
  {
   "cell_type": "code",
   "execution_count": null,
   "id": "6da08dbb-461a-43ea-b247-a368eb5eac18",
   "metadata": {},
   "outputs": [],
   "source": [
    "empdata={\"empid\":[101,200,300,400,500,600],\"ename\":[\"chandrani\",\"sandy\",\"raima\",\"sreeja\",\"arpan\",\"piyush\"],\"sal\":[100000,30000,40000,70000,49999,60000]}"
   ]
  }
 ],
 "metadata": {
  "kernelspec": {
   "display_name": "Python 3 (ipykernel)",
   "language": "python",
   "name": "python3"
  },
  "language_info": {
   "codemirror_mode": {
    "name": "ipython",
    "version": 3
   },
   "file_extension": ".py",
   "mimetype": "text/x-python",
   "name": "python",
   "nbconvert_exporter": "python",
   "pygments_lexer": "ipython3",
   "version": "3.9.9"
  }
 },
 "nbformat": 4,
 "nbformat_minor": 5
}
